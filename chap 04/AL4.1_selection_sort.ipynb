{
 "cells": [
  {
   "cell_type": "markdown",
   "metadata": {},
   "source": [
    "예제 4.1\n",
    "======="
   ]
  },
  {
   "cell_type": "markdown",
   "metadata": {},
   "source": [
    "#### -팩토리얼-"
   ]
  },
  {
   "cell_type": "markdown",
   "metadata": {},
   "source": [
    "### 1.1 문제 정의\n",
    "\n",
    "- 하향식 축소 정복 기법을 사용하여 팩토리얼을 계산하는 코드를 만들어라"
   ]
  },
  {
   "cell_type": "markdown",
   "metadata": {},
   "source": [
    "### 1.2 알고리즘 설명\n",
    "- 큰 문제를 작은 문제로 나누어 재귀적으로 해결하고, 그 결과를 조합하여 최종 해를 얻는 알고리즘이다."
   ]
  },
  {
   "cell_type": "markdown",
   "metadata": {},
   "source": [
    "### 1.3 손으로 푼 예제\n"
   ]
  },
  {
   "cell_type": "markdown",
   "metadata": {},
   "source": [
    "### 1.4 알고리즘 개요"
   ]
  },
  {
   "cell_type": "markdown",
   "metadata": {},
   "source": [
    "1.사용자로부터 양의 정수 n을 입력한다.\n",
    "\n",
    "2.n이 0 또는 1인 경우, n!의 값은 1이다. 이를 기본 사례로 처리한다.\n",
    "\n",
    "3.n이 2 이상인 경우, n!을 계산하기 위해 n과 (n-1)!을 곱한다.\n",
    "\n",
    "4.(n-1)!을 계산하기 위해 재귀적으로 팩토리얼 함수를 호출한다.\n",
    "\n",
    "5.이러한 과정을 반복하여 최종적으로 n!의 값을 계산한다."
   ]
  },
  {
   "cell_type": "markdown",
   "metadata": {},
   "source": [
    "### 1.5 알고리즘 코드"
   ]
  },
  {
   "cell_type": "code",
   "execution_count": null,
   "metadata": {},
   "outputs": [],
   "source": [
    "def factorial_recur(n):\n",
    "    if n == 1:\n",
    "        return 1\n",
    "    else:\n",
    "        return(n*factorial_recur(n-1))"
   ]
  },
  {
   "cell_type": "markdown",
   "metadata": {},
   "source": [
    "### 1.6 테스트 코드"
   ]
  },
  {
   "cell_type": "code",
   "execution_count": null,
   "metadata": {},
   "outputs": [],
   "source": [
    "def factorial(n):\n",
    "    if n == 0 or n == 1:\n",
    "        return 1\n",
    "    else:\n",
    "        return n * factorial(n-1)\n",
    "    \n",
    "def test_factorial():\n",
    "    test_cases = [0, 1, 2, 3, 4, 5]  \n",
    "    expected_results = [1, 1, 2, 6, 24, 120]\n",
    "\n",
    "    for i, test_case in enumerate(test_cases):\n",
    "        result = factorial(test_case)\n",
    "        expected_result = expected_results[i]\n",
    "        print(f\"Test case {test_case}: Expected {expected_result}, Result: {result}\")\n"
   ]
  },
  {
   "cell_type": "markdown",
   "metadata": {},
   "source": [
    "Test case 0: Expected 1, Result: 1\n",
    "\n",
    "Test case 1: Expected 1, Result: 1\n",
    "\n",
    "Test case 2: Expected 2, Result: 2\n",
    "\n",
    "Test case 3: Expected 6, Result: 6\n",
    "\n",
    "Test case 4: Expected 24, Result: 24\n",
    "\n",
    "Test case 5: Expected 120, Result: 120"
   ]
  },
  {
   "cell_type": "markdown",
   "metadata": {},
   "source": [
    "### 1.7 수행결과"
   ]
  },
  {
   "attachments": {
    "111.png": {
     "image/png": "[encoded data removed]"
    }
   },
   "cell_type": "markdown",
   "metadata": {},
   "source": [
    "![111.png](attachment:111.png)"
   ]
  },
  {
   "cell_type": "markdown",
   "metadata": {},
   "source": [
    "### 1.8 복잡도 분석\n",
    "- 이 코드의 전체 복잡도는 호출되는 횟수와 각 호출당 필요한 연산의 복잡도의 곱으로 결정된다. 호출되는 횟수가 O(n)이고 각 호출당 필요한 연산의 복잡도가 O(1)이므로, 전체 복잡도는 O(n) 이다."
   ]
  }
 ],
 "metadata": {
  "language_info": {
   "name": "python"
  }
 },
 "nbformat": 4,
 "nbformat_minor": 2
}
