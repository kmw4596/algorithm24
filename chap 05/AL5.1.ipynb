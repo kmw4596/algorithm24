{
 "cells": [
  {
   "cell_type": "markdown",
   "metadata": {},
   "source": [
    "예제 5.1\n",
    "======="
   ]
  },
  {
   "cell_type": "markdown",
   "metadata": {},
   "source": [
    "#### -병합 정렬-"
   ]
  },
  {
   "cell_type": "markdown",
   "metadata": {},
   "source": [
    "### 1.1 문제 정의\n",
    "\n",
    "- 리스트를 반으로 나눈 뒤, 각각을 재귀적으로 정렬하고, 정렬된 두 개의 리스트를 합쳐서 전체 리스트를 정렬하는 병합 정렬 알고리즘을 만들어라."
   ]
  },
  {
   "cell_type": "markdown",
   "metadata": {},
   "source": [
    "### 1.2 알고리즘 설명\n",
    "- 병합 정렬은 다음과 같이 동작합니다:\n",
    "\n",
    "- 리스트를 반으로 나눕니다.\n",
    "- 각 부분 리스트를 재귀적으로 정렬합니다.\n",
    "- 정렬된 부분 리스트들을 합병(merge)하여 전체 리스트를 정렬합니다."
   ]
  },
  {
   "cell_type": "markdown",
   "metadata": {},
   "source": [
    "### 1.3 손으로 푼 예제\n"
   ]
  },
  {
   "cell_type": "markdown",
   "metadata": {},
   "source": [
    "### 1.4 알고리즘 개요"
   ]
  },
  {
   "cell_type": "markdown",
   "metadata": {},
   "source": [
    "1. 주어진 리스트를 반으로 나누어 정렬합니다.\n",
    "2. 반으로 나눈 부분 리스트들을 재귀적으로 정렬합니다.\n",
    "3. 정렬된 부분 리스트들을 합병하여 전체 리스트를 정렬합니다."
   ]
  },
  {
   "cell_type": "markdown",
   "metadata": {},
   "source": [
    "### 1.5 알고리즘 코드"
   ]
  },
  {
   "cell_type": "code",
   "execution_count": null,
   "metadata": {},
   "outputs": [],
   "source": [
    "def merge_sort(A, left, right):\n",
    "    if left < right:\n",
    "        mid = (left + right) // 2\n",
    "        merge_sort(A, left, mid)\n",
    "        merge_sort(A, mid + 1, right)\n",
    "        merge(A, left, mid, right)"
   ]
  },
  {
   "cell_type": "markdown",
   "metadata": {},
   "source": [
    "### 1.6 테스트 코드"
   ]
  },
  {
   "cell_type": "code",
   "execution_count": null,
   "metadata": {},
   "outputs": [],
   "source": [
    "def merge(A, left, mid, right):\n",
    "    L = A[left:mid + 1]\n",
    "    R = A[mid + 1:right + 1]\n",
    "    i = j = 0\n",
    "    k = left\n",
    "    while i < len(L) and j < len(R):\n",
    "        if L[i] <= R[j]:\n",
    "            A[k] = L[i]\n",
    "            i += 1\n",
    "        else:\n",
    "            A[k] = R[j]\n",
    "            j += 1\n",
    "        k += 1\n",
    "    while i < len(L):\n",
    "        A[k] = L[i]\n",
    "        i += 1\n",
    "        k += 1\n",
    "    while j < len(R):\n",
    "        A[k] = R[j]\n",
    "        j += 1\n",
    "        k += 1\n",
    "test_list = [12, 11, 13, 5, 6, 7]\n",
    "print(\"Original list:\", test_list)\n",
    "\n",
    "merge_sort(test_list, 0, len(test_list) - 1)\n",
    "print(\"Sorted list:\", test_list)"
   ]
  },
  {
   "cell_type": "markdown",
   "metadata": {},
   "source": [
    "### 1.7 수행결과"
   ]
  },
  {
   "attachments": {
    "5.1.png": {
     "image/png": "[encoded data removed]"
    }
   },
   "cell_type": "markdown",
   "metadata": {},
   "source": [
    "![5.1.png](attachment:5.1.png)"
   ]
  },
  {
   "cell_type": "markdown",
   "metadata": {},
   "source": [
    "### 1.8 복잡도 분석\n",
    "-  리스트를 반으로 나누는 과정이 log n번 발생하고, 각 단계에서 n개의 요소를 합병하는 과정이 발생하기 때문입니다. 공간 복잡도는 합병할 때 추가적인 리스트가 필요하므로 O(n)입니다."
   ]
  }
 ],
 "metadata": {
  "language_info": {
   "name": "python"
  }
 },
 "nbformat": 4,
 "nbformat_minor": 2
}
