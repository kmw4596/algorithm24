{
 "cells": [
  {
   "cell_type": "markdown",
   "metadata": {},
   "source": [
    "예제 5.3\n",
    "======="
   ]
  },
  {
   "cell_type": "markdown",
   "metadata": {},
   "source": [
    "#### -퀵 정렬-"
   ]
  },
  {
   "cell_type": "markdown",
   "metadata": {},
   "source": [
    "### 1.1 문제 정의\n",
    "\n",
    "- 주어진 리스트를 특정한 기준(피벗)을 사용하여 두 개의 부분 리스트로 분할하고, 각 부분 리스트를 재귀적으로 정렬하여 전체 리스트를 정렬하는 퀵 정렬 알고리즘을 만들어라."
   ]
  },
  {
   "cell_type": "markdown",
   "metadata": {},
   "source": [
    "### 1.2 알고리즘 설명\n",
    "- 퀵 정렬은 다음과 같은 과정을 거칩니다:\n",
    "\n",
    "- 리스트에서 하나의 요소를 선택하여 피벗으로 지정합니다.\n",
    "- 피벗을 기준으로 작은 요소는 피벗의 왼쪽으로, 큰 요소는 피벗의 오른쪽으로 나눕니다.\n",
    "- 나누어진 부분 리스트에 대해 재귀적으로 퀵 정렬을 수행합니다.\n",
    "- 재귀 호출이 완료되면 리스트가 정렬됩니다."
   ]
  },
  {
   "cell_type": "markdown",
   "metadata": {},
   "source": [
    "### 1.3 손으로 푼 예제\n"
   ]
  },
  {
   "cell_type": "markdown",
   "metadata": {},
   "source": [
    "### 1.4 알고리즘 개요"
   ]
  },
  {
   "cell_type": "markdown",
   "metadata": {},
   "source": [
    "1. 주어진 리스트를 피벗을 기준으로 두 개의 부분 리스트로 나눕니다.\n",
    "2. 각 부분 리스트에 대해 재귀적으로 퀵 정렬을 수행합니다.\n",
    "3. 재귀 호출이 완료되면 전체 리스트가 정렬됩니다."
   ]
  },
  {
   "cell_type": "markdown",
   "metadata": {},
   "source": [
    "### 1.5 알고리즘 코드"
   ]
  },
  {
   "cell_type": "code",
   "execution_count": null,
   "metadata": {},
   "outputs": [],
   "source": [
    "def quick_sort(A, left, right):\n",
    "    if left < right:\n",
    "        mid = partition(A, left, right)\n",
    "        quick_sort(A, left, mid - 1)\n",
    "        quick_sort(A, mid + 1, right)\n"
   ]
  },
  {
   "cell_type": "markdown",
   "metadata": {},
   "source": [
    "### 1.6 테스트 코드"
   ]
  },
  {
   "cell_type": "code",
   "execution_count": null,
   "metadata": {},
   "outputs": [],
   "source": [
    "def partition(A, left, right):\n",
    "    pivot = A[right]\n",
    "    i = left - 1\n",
    "    for j in range(left, right):\n",
    "        if A[j] <= pivot:\n",
    "            i += 1\n",
    "            A[i], A[j] = A[j], A[i]\n",
    "    A[i + 1], A[right] = A[right], A[i + 1]\n",
    "    return i + 1\n",
    "\n",
    "def quick_sort(A, left, right):\n",
    "    if left < right:\n",
    "        mid = partition(A, left, right)\n",
    "        quick_sort(A, left, mid - 1)\n",
    "        quick_sort(A, mid + 1, right)\n",
    "test_list = [10, 7, 8, 9, 1, 5]\n",
    "print(\"Original list:\", test_list)\n",
    "quick_sort(test_list, 0, len(test_list) - 1)\n",
    "print(\"Sorted list:\", test_list)"
   ]
  },
  {
   "cell_type": "markdown",
   "metadata": {},
   "source": [
    "### 1.7 수행결과"
   ]
  },
  {
   "attachments": {
    "5.3.png": {
     "image/png": "[encoded data removed]"
    }
   },
   "cell_type": "markdown",
   "metadata": {},
   "source": [
    "![5.3.png](attachment:5.3.png)"
   ]
  },
  {
   "cell_type": "markdown",
   "metadata": {},
   "source": [
    "### 1.8 복잡도 분석\n",
    "- 퀵 정렬의 시간 복잡도는 평균적으로 O(n log n)입니다. 이는 리스트를 분할하고 정렬하는 과정이 log n번 발생하고, 각 단계에서 n개의 요소를 처리하기 때문입니다. 하지만 최악의 경우 피벗이 항상 가장 작거나 가장 큰 값으로 선택될 때 O(n^2)의 시간 복잡도를 갖습니다."
   ]
  }
 ],
 "metadata": {
  "language_info": {
   "name": "python"
  }
 },
 "nbformat": 4,
 "nbformat_minor": 2
}
