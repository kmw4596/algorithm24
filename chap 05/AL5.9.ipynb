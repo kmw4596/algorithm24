{
 "cells": [
  {
   "cell_type": "markdown",
   "metadata": {},
   "source": [
    "예제 5.9\n",
    "======="
   ]
  },
  {
   "cell_type": "markdown",
   "metadata": {},
   "source": [
    "#### -최근접 쌍의 거리-"
   ]
  },
  {
   "cell_type": "markdown",
   "metadata": {},
   "source": [
    "### 1.1 문제 정의\n",
    "\n",
    "- 주어진 점들의 리스트에서 최근접 쌍의 거리를 찾는 알고리즘을 만들어라"
   ]
  },
  {
   "cell_type": "markdown",
   "metadata": {},
   "source": [
    "### 1.2 알고리즘 설명\n",
    "- 입력 점들을 x 좌표를 기준으로 정렬합니다.\n",
    "- 중앙 지점을 기준으로 입력 점들을 둘로 나눕니다.\n",
    "- 왼쪽 부분과 오른쪽 부분에서 각각 최근접 쌍의 거리를 재귀적으로 찾습니다."
   ]
  },
  {
   "cell_type": "markdown",
   "metadata": {},
   "source": [
    "### 1.3 손으로 푼 예제\n"
   ]
  },
  {
   "cell_type": "markdown",
   "metadata": {},
   "source": [
    "### 1.4 알고리즘 개요"
   ]
  },
  {
   "cell_type": "markdown",
   "metadata": {},
   "source": [
    "- 입력 점들을 x 좌표를 기준으로 정렬합니다.\n",
    "- 점들의 개수가 3 이하일 경우, brute-force 방식으로 최근접 쌍의 거리를 계산합니다.\n",
    "- 그렇지 않을 경우, 입력 점들을 중앙 지점을 기준으로 왼쪽 부분과 오른쪽 부분으로 나눕니다.\n",
    "- 왼쪽 부분과 오른쪽 부분에서 각각 최근접 쌍의 거리를 재귀적으로 찾습니다.\n",
    "- 양쪽 부분에서 찾은 최근접 쌍의 거리 중 최소값을 구합니다.\n",
    "- 중앙 지점을 기준으로 거리 d보다 작은 점들을 찾아 띠 영역 내에서 최근접 쌍의 거리를 계산합니다."
   ]
  },
  {
   "cell_type": "markdown",
   "metadata": {},
   "source": [
    "### 1.5 알고리즘 코드"
   ]
  },
  {
   "cell_type": "code",
   "execution_count": null,
   "metadata": {},
   "outputs": [],
   "source": [
    "def closest_pair_dist(P, n):\n",
    "    if n <= 3:\n",
    "        return closest_pair_dist_brute_force(P, n)\n",
    "    mid = n // 2\n",
    "    mid_x = P[mid][0]\n",
    "\n",
    "    dl = closest_pair_dist(P[:mid], mid)\n",
    "    dr = closest_pair_dist(P[mid:], n - mid)\n",
    "    d = min(dl, dr)\n",
    "\n",
    "    Pm = []\n",
    "    for i in range(n):\n",
    "        if abs(P[i][0] - mid_x) < d:\n",
    "            Pm.append(P[i])\n",
    "    ds = strip_closest(Pm, d)\n",
    "    return min(d, ds)\n"
   ]
  },
  {
   "cell_type": "markdown",
   "metadata": {},
   "source": [
    "### 1.6 테스트 코드"
   ]
  },
  {
   "cell_type": "code",
   "execution_count": null,
   "metadata": {},
   "outputs": [],
   "source": [
    "import math\n",
    "\n",
    "def distance(p1, p2):\n",
    "    return math.sqrt((p1[0] - p2[0])**2 + (p1[1] - p2[1])**2)\n",
    "\n",
    "def strip_closest(P, d):\n",
    "    n = len(P)\n",
    "    d_min = d\n",
    "    P.sort(key=lambda point: point[1])\n",
    "\n",
    "    for i in range(n):\n",
    "        j = i + 1\n",
    "        while j < n and (P[j][1] - P[i][1]) < d_min:\n",
    "            dij = distance(P[i], P[j])\n",
    "            if dij < d_min:\n",
    "                d_min = dij\n",
    "            j += 1\n",
    "    return d_min\n",
    "\n",
    "def closest_pair_dist_brute_force(P, n):\n",
    "    min_dist = float('inf')\n",
    "    for i in range(n):\n",
    "        for j in range(i + 1, n):\n",
    "            dist = distance(P[i], P[j])\n",
    "            if dist < min_dist:\n",
    "                min_dist = dist\n",
    "    return min_dist\n",
    "\n",
    "def closest_pair_dist(P, n):\n",
    "    if n <= 3:\n",
    "        return closest_pair_dist_brute_force(P, n)\n",
    "    mid = n // 2\n",
    "    mid_x = P[mid][0]\n",
    "\n",
    "    dl = closest_pair_dist(P[:mid], mid)\n",
    "    dr = closest_pair_dist(P[mid:], n - mid)\n",
    "    d = min(dl, dr)\n",
    "\n",
    "    Pm = []\n",
    "    for i in range(n):\n",
    "        if abs(P[i][0] - mid_x) < d:\n",
    "            Pm.append(P[i])\n",
    "    ds = strip_closest(Pm, d)\n",
    "    return min(d, ds)\n",
    "\n",
    "points = [(2, 3), (12, 30), (40, 50), (5, 1), (12, 10), (3, 4)]\n",
    "n = len(points)\n",
    "\n",
    "print(\"Closest pair distance:\", closest_pair_dist(points, n))\n"
   ]
  },
  {
   "cell_type": "markdown",
   "metadata": {},
   "source": [
    "### 1.7 수행결과"
   ]
  },
  {
   "cell_type": "markdown",
   "metadata": {},
   "source": [
    "Closest pair distance: 1.4142135623730951"
   ]
  },
  {
   "cell_type": "markdown",
   "metadata": {},
   "source": [
    "### 1.8 복잡도 분석\n",
    "- 이 알고리즘의 시간 복잡도는 분할 정복을 사용하므로 O(n log n)입니다. 띠 영역 내에서 최근접 쌍의 거리를 계산하는 과정에서 O(n)의 시간이 소요되므로 전체적인 시간 복잡도는 O(n log^2 n)입니다."
   ]
  }
 ],
 "metadata": {
  "language_info": {
   "name": "python"
  }
 },
 "nbformat": 4,
 "nbformat_minor": 2
}
