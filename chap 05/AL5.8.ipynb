{
 "cells": [
  {
   "cell_type": "markdown",
   "metadata": {},
   "source": [
    "예제 5.8\n",
    "======="
   ]
  },
  {
   "cell_type": "markdown",
   "metadata": {},
   "source": [
    "#### -띠 영역 내에서 d보다 작은 최근접 쌍의 거리 찾기-"
   ]
  },
  {
   "cell_type": "markdown",
   "metadata": {},
   "source": [
    "### 1.1 문제 정의\n",
    "\n",
    "- 주어진 점들이 주어진 띠 영역 내에서 주어진 거리 d보다 작은 최근접 쌍의 거리를 찾는 알고리즘을 만들어라."
   ]
  },
  {
   "cell_type": "markdown",
   "metadata": {},
   "source": [
    "### 1.2 알고리즘 설명\n",
    "- 주어진 점들을 y 좌표를 기준으로 정렬한 후, 띠 영역 내에서 d보다 작은 최근접 쌍의 거리를 찾습니다."
   ]
  },
  {
   "cell_type": "markdown",
   "metadata": {},
   "source": [
    "### 1.3 손으로 푼 예제\n"
   ]
  },
  {
   "cell_type": "markdown",
   "metadata": {},
   "source": [
    "### 1.4 알고리즘 개요"
   ]
  },
  {
   "cell_type": "markdown",
   "metadata": {},
   "source": [
    "- 주어진 점들을 y 좌표를 기준으로 정렬합니다.\n",
    "- 이중 반복문을 사용하여 각 점과 그 다음 점들 간의 거리를 계산합니다.\n",
    "- 이때, y 좌표를 기준으로 정렬된 상태이므로, 띠 영역 내에서의 최근접 쌍은 인접한 점들뿐입니다.\n",
    "- 따라서, 현재 점과 그 다음 점들 간의 거리가 d보다 작은 경우에만 거리를 계산합니다.\n",
    "- 거리가 d보다 작은 최근접 쌍의 거리를 업데이트합니다."
   ]
  },
  {
   "cell_type": "markdown",
   "metadata": {},
   "source": [
    "### 1.5 알고리즘 코드"
   ]
  },
  {
   "cell_type": "code",
   "execution_count": null,
   "metadata": {},
   "outputs": [],
   "source": [
    "def strip_closest(P, d):\n",
    "    n = len(P)\n",
    "    d_min = d\n",
    "    P.sort(key=lambda point: point[1])\n",
    "\n",
    "    for i in range(n):\n",
    "        j = i + 1\n",
    "        while j < n and (P[j][1] - P[i][1]) < d_min:\n",
    "            dij = distance(P[i], P[j])\n",
    "            if dij < d_min:\n",
    "                d_min += dij\n",
    "            j += 1\n",
    "    return d_min"
   ]
  },
  {
   "cell_type": "markdown",
   "metadata": {},
   "source": [
    "### 1.6 테스트 코드"
   ]
  },
  {
   "cell_type": "code",
   "execution_count": null,
   "metadata": {},
   "outputs": [],
   "source": [
    "import math\n",
    "\n",
    "def distance(p1, p2):\n",
    "    return math.sqrt((p1[0] - p2[0])**2 + (p1[1] - p2[1])**2)\n",
    "\n",
    "def strip_closest(P, d):\n",
    "    n = len(P)\n",
    "    d_min = d\n",
    "    P.sort(key=lambda point: point[1])\n",
    "\n",
    "    for i in range(n):\n",
    "        j = i + 1\n",
    "        while j < n and (P[j][1] - P[i][1]) < d_min:\n",
    "            dij = distance(P[i], P[j])\n",
    "            if dij < d_min:\n",
    "                d_min = dij\n",
    "            j += 1\n",
    "    return d_min\n",
    "\n",
    "points = [(1, 2), (2, 4), (3, 6), (5, 5), (7, 4), (9, 2), (10, 1)]\n",
    "d = 2\n",
    "\n",
    "print(\"Minimum distance between closest pairs within the strip:\", strip_closest(points, d))\n"
   ]
  },
  {
   "cell_type": "markdown",
   "metadata": {},
   "source": [
    "### 1.7 수행결과"
   ]
  },
  {
   "cell_type": "markdown",
   "metadata": {},
   "source": [
    "Minimum distance between closest pairs within the strip: 2.0"
   ]
  },
  {
   "cell_type": "markdown",
   "metadata": {},
   "source": [
    "### 1.8 복잡도 분석\n",
    "- 이 알고리즘의 시간 복잡도는 리스트를 y 좌표를 기준으로 정렬하는 데 O(n log n)이 소요됩니다. 이후 이중 반복문을 사용하여 거리를 계산하므로 전체적으로 O(n log n)의 시간 복잡도를 갖습니다. "
   ]
  }
 ],
 "metadata": {
  "language_info": {
   "name": "python"
  }
 },
 "nbformat": 4,
 "nbformat_minor": 2
}
