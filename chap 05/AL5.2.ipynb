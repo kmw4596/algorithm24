{
 "cells": [
  {
   "cell_type": "markdown",
   "metadata": {},
   "source": [
    "예제 5.2\n",
    "======="
   ]
  },
  {
   "cell_type": "markdown",
   "metadata": {},
   "source": [
    "#### -병합 알고리즘(정렬된 두 리스트의 병합)-"
   ]
  },
  {
   "cell_type": "markdown",
   "metadata": {},
   "source": [
    "### 1.1 문제 정의\n",
    "\n",
    "- 두 개의 정렬된 리스트를 하나로 병합하는 병합 알고리즘을 만들어라."
   ]
  },
  {
   "cell_type": "markdown",
   "metadata": {},
   "source": [
    "### 1.2 알고리즘 설명\n",
    "- 병합 알고리즘은 다음과 같이 동작합니다:\n",
    "\n",
    "- 두 개의 정렬된 리스트를 비교하여 작은 값을 새로운 리스트에 추가합니다.\n",
    "- 비교한 요소 중에서 작은 값을 새로운 리스트에 추가하고 해당 리스트의 인덱스를 증가시킵니다.\n",
    "- 두 리스트 중 하나의 리스트의 모든 요소를 새로운 리스트에 추가하면, 남은 리스트의 나머지 요소를 새로운 리스트에 추가합니다."
   ]
  },
  {
   "cell_type": "markdown",
   "metadata": {},
   "source": [
    "### 1.3 손으로 푼 예제\n"
   ]
  },
  {
   "cell_type": "markdown",
   "metadata": {},
   "source": [
    "### 1.4 알고리즘 개요"
   ]
  },
  {
   "cell_type": "markdown",
   "metadata": {},
   "source": [
    "1. 주어진 두 개의 정렬된 리스트를 하나로 병합합니다.\n",
    "2. 각 리스트의 요소를 순차적으로 비교하여 작은 값을 새로운 리스트에 추가합니다.\n",
    "3. 한 리스트의 모든 요소를 추가하면, 다른 리스트의 나머지 요소를 새로운 리스트에 추가합니다."
   ]
  },
  {
   "cell_type": "markdown",
   "metadata": {},
   "source": [
    "### 1.5 알고리즘 코드"
   ]
  },
  {
   "cell_type": "code",
   "execution_count": null,
   "metadata": {},
   "outputs": [],
   "source": [
    "def merge(A, left, mid, right):\n",
    "    k = left\n",
    "    i = left\n",
    "    j = mid + 1\n",
    "    while i <= mid and j <= right:\n",
    "        if A[i] <= A[j]:\n",
    "            sorted[k] = A[i]\n",
    "            i, k = i + 1, k + 1\n",
    "        else:\n",
    "            sorted[k] = A[j]\n",
    "            j, k = j + 1, k + 1\n",
    "    if i > mid:\n",
    "        sorted[k:k + right - j + 1] = A[j:right + 1]\n",
    "    if j > right:\n",
    "        sorted[k:k + mid - i + 1] = A[i:mid + 1]\n",
    "    A[left:right + 1] = sorted[left:right + 1]"
   ]
  },
  {
   "cell_type": "markdown",
   "metadata": {},
   "source": [
    "### 1.6 테스트 코드"
   ]
  },
  {
   "cell_type": "code",
   "execution_count": null,
   "metadata": {},
   "outputs": [],
   "source": [
    "def merge(A, left, mid, right):\n",
    "    k = left\n",
    "    i = left\n",
    "    j = mid + 1\n",
    "    while i <= mid and j <= right:\n",
    "        if A[i] <= A[j]:\n",
    "            sorted[k] = A[i]\n",
    "            i, k = i + 1, k + 1\n",
    "        else:\n",
    "            sorted[k] = A[j]\n",
    "            j, k = j + 1, k + 1\n",
    "    if i > mid:\n",
    "        sorted[k:k + right - j + 1] = A[j:right + 1]\n",
    "    if j > right:\n",
    "        sorted[k:k + mid - i + 1] = A[i:mid + 1]\n",
    "    A[left:right + 1] = sorted[left:right + 1]\n",
    "\n",
    "list1 = [1, 3, 5, 7, 9]\n",
    "list2 = [2, 4, 6, 8, 10]\n",
    "print(\"List 1:\", list1)\n",
    "print(\"List 2:\", list2)\n",
    "\n",
    "merged_list = list1 + list2\n",
    "sorted = [0] * len(merged_list)\n",
    "merge(merged_list, 0, len(list1) - 1, len(merged_list) - 1)\n",
    "print(\"Merged and sorted list:\", merged_list)"
   ]
  },
  {
   "cell_type": "markdown",
   "metadata": {},
   "source": [
    "### 1.7 수행결과"
   ]
  },
  {
   "attachments": {
    "5.2.png": {
     "image/png": "[encoded data removed]"
    }
   },
   "cell_type": "markdown",
   "metadata": {},
   "source": [
    "![5.2.png](attachment:5.2.png)"
   ]
  },
  {
   "cell_type": "markdown",
   "metadata": {},
   "source": [
    "### 1.8 복잡도 분석\n",
    "- 병합 알고리즘의 시간 복잡도는 병합할 두 리스트의 길이에 비례합니다. 두 리스트의 길이의 합이 n일 때, 병합 알고리즘의 시간 복잡도는 O(n)입니다."
   ]
  }
 ],
 "metadata": {
  "language_info": {
   "name": "python"
  }
 },
 "nbformat": 4,
 "nbformat_minor": 2
}
