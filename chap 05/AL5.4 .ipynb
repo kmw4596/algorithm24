{
 "cells": [
  {
   "cell_type": "markdown",
   "metadata": {},
   "source": [
    "예제 5.4\n",
    "======="
   ]
  },
  {
   "cell_type": "markdown",
   "metadata": {},
   "source": [
    "#### -이진트리의 높이-"
   ]
  },
  {
   "cell_type": "markdown",
   "metadata": {},
   "source": [
    "### 1.1 문제 정의\n",
    "\n",
    "- 루트 노드에서 가장 깊은 리프 노드까지의 최대 경로 길이의 이진 트리의 높이 알고리즘을 만들어라"
   ]
  },
  {
   "cell_type": "markdown",
   "metadata": {},
   "source": [
    "### 1.2 알고리즘 설명\n",
    "- 퀵 정렬은 다음과 같은 과정을 거칩니다:\n",
    "\n",
    "- 빈 트리의 높이는 0입니다.\n",
    "- 루트 노드가 있는 경우, 왼쪽 서브트리의 높이와 오른쪽 서브트리의 높이 중 더 큰 값에 1을 더하여 현재 노드의 높이를 계산합니다.\n",
    "- 재귀적으로 각 서브트리의 높이를 계산하여 최대 높이를 구합니다."
   ]
  },
  {
   "cell_type": "markdown",
   "metadata": {},
   "source": [
    "### 1.3 손으로 푼 예제\n"
   ]
  },
  {
   "cell_type": "markdown",
   "metadata": {},
   "source": [
    "### 1.4 알고리즘 개요"
   ]
  },
  {
   "cell_type": "markdown",
   "metadata": {},
   "source": [
    "- 이진 트리의 높이를 계산하는 함수를 정의합니다.\n",
    "- 주어진 노드가 없는 경우(빈 트리인 경우) 높이를 0으로 반환합니다.\n",
    "- 루트 노드가 있는 경우, 왼쪽 서브트리의 높이와 오른쪽 서브트리의 높이 중 더 큰 값을 선택하여 현재 노드의 높이를 계산합니다.\n",
    "- 왼쪽 서브트리와 오른쪽 서브트리에 대해 재귀적으로 높이를 계산하여 최대 높이를 구합니다."
   ]
  },
  {
   "cell_type": "markdown",
   "metadata": {},
   "source": [
    "### 1.5 알고리즘 코드"
   ]
  },
  {
   "cell_type": "code",
   "execution_count": null,
   "metadata": {},
   "outputs": [],
   "source": [
    "def calc_height(root):\n",
    "    if root is None:\n",
    "        return 0\n",
    "    hLeft = calc_height(root.left)\n",
    "    hRight = calc_height(root.right)\n",
    "    return max(hLeft, hRight) + 1"
   ]
  },
  {
   "cell_type": "markdown",
   "metadata": {},
   "source": [
    "### 1.6 테스트 코드"
   ]
  },
  {
   "cell_type": "code",
   "execution_count": null,
   "metadata": {},
   "outputs": [],
   "source": [
    "class TreeNode:\n",
    "    def __init__(self, value):\n",
    "        self.val = value\n",
    "        self.left = None\n",
    "        self.right = None\n",
    "\n",
    "def calc_height(root):\n",
    "    if root is None:\n",
    "        return 0\n",
    "    hLeft = calc_height(root.left)\n",
    "    hRight = calc_height(root.right)\n",
    "    return max(hLeft, hRight) + 1\n",
    "\n",
    "root = TreeNode(1)\n",
    "root.left = TreeNode(2)\n",
    "root.right = TreeNode(3)\n",
    "root.left.left = TreeNode(4)\n",
    "root.left.right = TreeNode(5)\n",
    "root.right.left = TreeNode(6)\n",
    "root.right.right = TreeNode(7)\n",
    "\n",
    "height = calc_height(root)\n",
    "print(\"Height of the binary tree:\", height)\n"
   ]
  },
  {
   "cell_type": "markdown",
   "metadata": {},
   "source": [
    "### 1.7 수행결과"
   ]
  },
  {
   "cell_type": "markdown",
   "metadata": {},
   "source": [
    "Height of the binary tree: 3"
   ]
  },
  {
   "cell_type": "markdown",
   "metadata": {},
   "source": [
    "### 1.8 복잡도 분석\n",
    "- 이진 트리의 높이를 계산하는 알고리즘의 시간 복잡도는 트리의 모든 노드를 한 번씩 방문해야 하므로 O(n)입니다."
   ]
  }
 ],
 "metadata": {
  "language_info": {
   "name": "python"
  }
 },
 "nbformat": 4,
 "nbformat_minor": 2
}
