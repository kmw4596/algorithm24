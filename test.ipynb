{
 "cells": [
  {
   "cell_type": "code",
   "execution_count": null,
   "metadata": {},
   "outputs": [],
   "source": [
    "#이진트리의 높이\n",
    "def calc_height(root):\n",
    "    if root is None:\n",
    "        return 0\n",
    "    hLeft = calc_height(root.left)\n",
    "    hRight = calc_height(root.right)\n",
    "    return max(hLeft,hRight)+1  "
   ]
  },
  {
   "cell_type": "code",
   "execution_count": null,
   "metadata": {},
   "outputs": [],
   "source": [
    "#알고리즘 전위 순회\n",
    "def preorder(n):\n",
    "    if n is not None:\n",
    "        print(n.data, end=' ')\n",
    "        preorder(n.left)\n",
    "        preorder(n.right)"
   ]
  },
  {
   "cell_type": "code",
   "execution_count": null,
   "metadata": {},
   "outputs": [],
   "source": [
    "#알고리즘 중위 순회\n",
    "def inorder(n):\n",
    "    if n is not None:\n",
    "        inorder(n.left)\n",
    "        print(n.data, end=' ')\n",
    "        inorder(n.right)"
   ]
  },
  {
   "cell_type": "code",
   "execution_count": null,
   "metadata": {},
   "outputs": [],
   "source": [
    "#알고리즘 후위 순회\n",
    "def postorder(n):\n",
    "    if n is not None:\n",
    "        postorder(n.left)\n",
    "        postorder(n.right)\n",
    "        print(n.data, end=' ')"
   ]
  },
  {
   "cell_type": "code",
   "execution_count": null,
   "metadata": {},
   "outputs": [],
   "source": [
    "#띠 영역 내에서 d보다 작은 최근접 쌍의 거리 찾기\n",
    "def strip_closest(P,d):\n",
    "    n = len(P)\n",
    "    d_min = d\n",
    "    P.sort(key = lambda point: point[1])\n",
    "\n",
    "    for i in range(n):\n",
    "        j= i+1\n",
    "        while j<n and (P[j][1]-P[i][1])<d_min:\n",
    "            dij = distance(P[i],P[j])\n",
    "            if dij<d_min:\n",
    "                d_min+dij\n",
    "            j+=1\n",
    "    return d_min"
   ]
  },
  {
   "cell_type": "code",
   "execution_count": null,
   "metadata": {},
   "outputs": [],
   "source": [
    "#최근접 쌍의 거리\n",
    "def closest_pair_dist(P,n):\n",
    "    if n <=3:\n",
    "        return closest_pair_dist(P)\n",
    "    mid = n//2\n",
    "    mid_x=P[mid][0]\n",
    "\n",
    "    dl = closest_pair_dist(P[:mid], mid)\n",
    "    dr= closest_pair_dist(P[mid:],n-mid)\n",
    "    d = min(dl,dr)\n",
    "\n",
    "    Pm=[]\n",
    "\n",
    "    for i in range(n):\n",
    "        if abs(P[i][0]-mid_x)<d:\n",
    "            Pm.append(P[i])\n",
    "    ds = strip_closest(Pm,d)\n",
    "    return ds"
   ]
  }
 ],
 "metadata": {
  "language_info": {
   "name": "python"
  }
 },
 "nbformat": 4,
 "nbformat_minor": 2
}
